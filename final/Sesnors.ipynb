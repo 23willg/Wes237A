{
 "cells": [
  {
   "cell_type": "code",
   "execution_count": 10,
   "id": "1478a193",
   "metadata": {},
   "outputs": [],
   "source": [
    "from pynq.overlays.base import BaseOverlay\n",
    "from pynq.lib import Pmod_ADC\n",
    "base = BaseOverlay(\"base.bit\")\n",
    "import time\n",
    "import random\n",
    "import socket\n",
    "import asyncio"
   ]
  },
  {
   "cell_type": "code",
   "execution_count": 11,
   "id": "1e462893",
   "metadata": {},
   "outputs": [],
   "source": [
    "adc = Pmod_ADC(base.PMODA)\n",
    "btns = base.btns_gpio"
   ]
  },
  {
   "cell_type": "code",
   "execution_count": 18,
   "id": "d8741fe7",
   "metadata": {},
   "outputs": [],
   "source": [
    "def connect_to_server(HOST, PORT):\n",
    "    sock = socket.socket(socket.AF_INET, socket.SOCK_STREAM)\n",
    "\n",
    "    sock.connect((HOST, PORT))\n",
    "    \n",
    "    return sock\n"
   ]
  },
  {
   "cell_type": "code",
   "execution_count": 24,
   "id": "e51b034b",
   "metadata": {},
   "outputs": [],
   "source": [
    "async def get_btns(loop,PORT):\n",
    "    client_sock = None\n",
    "    print('Starting the client code')\n",
    "    time.sleep(1)\n",
    "    while True:\n",
    "        await asyncio.sleep(0.01)\n",
    "        \n",
    "        #button 3,2,1 stops the code\n",
    "        if btns[3].read() != 0:\n",
    "            break\n",
    "            if client_sock: \n",
    "                client_sock.sendall(b'close')\n",
    "                print('Ending Session and breaking')\n",
    "                client_sock.close()\n",
    "                loop.close() \n",
    "                break\n",
    "        #end session\n",
    "        elif btns[2].read() != 0:\n",
    "            if client_sock:\n",
    "                client_sock.sendall(b'close')\n",
    "                print('Ending Session and breaking')\n",
    "                client_sock.close()\n",
    "                loop.close() \n",
    "                break\n",
    "        # Send signal to buzz other pynq\n",
    "        elif btns[1].read() != 0:\n",
    "            print('pressed btn 1')\n",
    "            if client_sock: \n",
    "                client_sock.sendall(b'close')\n",
    "                print('Ending Session and breaking')\n",
    "                client_sock.close()\n",
    "                loop.close() \n",
    "                break\n",
    "        # Connect to server button\n",
    "        elif btns[0].read() != 0:\n",
    "            if client_sock == None:\n",
    "                try:\n",
    "                    client_sock = connect_to_server('192.168.2.1',PORT)\n",
    "                    #client_sock = connect_to_server('192.168.2.99',1000)\n",
    "                    print('Connected to Server')\n",
    "                    await asyncio.sleep(1)\n",
    "                except:\n",
    "                    print('Unable to connected to Server')\n",
    "                    await asyncio.sleep(0.3)\n",
    "            else: \n",
    "                print('Already connected')\n",
    "                \n",
    "        if client_sock:\n",
    "            client_sock.sendall(str((adc.read_raw(ch1=1, ch2=1, ch3=0))).encode('ASCII'))\n",
    "            await asyncio.sleep(4)"
   ]
  },
  {
   "cell_type": "code",
   "execution_count": 20,
   "id": "0fc56661",
   "metadata": {},
   "outputs": [],
   "source": [
    "def run_client(PORT):\n",
    "    loop = asyncio.new_event_loop()\n",
    "    loop.create_task(get_btns(loop, PORT))\n",
    "    loop.run_forever()\n",
    "    loop.close() "
   ]
  },
  {
   "cell_type": "code",
   "execution_count": 26,
   "id": "7f6788b9",
   "metadata": {},
   "outputs": [
    {
     "name": "stdout",
     "output_type": "stream",
     "text": [
      "Starting the client code\n"
     ]
    },
    {
     "ename": "KeyboardInterrupt",
     "evalue": "",
     "output_type": "error",
     "traceback": [
      "\u001b[0;31m---------------------------------------------------------------------------\u001b[0m",
      "\u001b[0;31mKeyboardInterrupt\u001b[0m                         Traceback (most recent call last)",
      "\u001b[0;32m<ipython-input-26-68ead7fa0d90>\u001b[0m in \u001b[0;36m<module>\u001b[0;34m\u001b[0m\n\u001b[0;32m----> 1\u001b[0;31m \u001b[0mrun_client\u001b[0m\u001b[0;34m(\u001b[0m\u001b[0;36m20002\u001b[0m\u001b[0;34m)\u001b[0m\u001b[0;34m\u001b[0m\u001b[0;34m\u001b[0m\u001b[0m\n\u001b[0m",
      "\u001b[0;32m<ipython-input-20-c676f390359a>\u001b[0m in \u001b[0;36mrun_client\u001b[0;34m(PORT)\u001b[0m\n\u001b[1;32m      2\u001b[0m     \u001b[0mloop\u001b[0m \u001b[0;34m=\u001b[0m \u001b[0masyncio\u001b[0m\u001b[0;34m.\u001b[0m\u001b[0mnew_event_loop\u001b[0m\u001b[0;34m(\u001b[0m\u001b[0;34m)\u001b[0m\u001b[0;34m\u001b[0m\u001b[0;34m\u001b[0m\u001b[0m\n\u001b[1;32m      3\u001b[0m     \u001b[0mloop\u001b[0m\u001b[0;34m.\u001b[0m\u001b[0mcreate_task\u001b[0m\u001b[0;34m(\u001b[0m\u001b[0mget_btns\u001b[0m\u001b[0;34m(\u001b[0m\u001b[0mloop\u001b[0m\u001b[0;34m,\u001b[0m \u001b[0mPORT\u001b[0m\u001b[0;34m)\u001b[0m\u001b[0;34m)\u001b[0m\u001b[0;34m\u001b[0m\u001b[0;34m\u001b[0m\u001b[0m\n\u001b[0;32m----> 4\u001b[0;31m     \u001b[0mloop\u001b[0m\u001b[0;34m.\u001b[0m\u001b[0mrun_forever\u001b[0m\u001b[0;34m(\u001b[0m\u001b[0;34m)\u001b[0m\u001b[0;34m\u001b[0m\u001b[0;34m\u001b[0m\u001b[0m\n\u001b[0m\u001b[1;32m      5\u001b[0m     \u001b[0mloop\u001b[0m\u001b[0;34m.\u001b[0m\u001b[0mclose\u001b[0m\u001b[0;34m(\u001b[0m\u001b[0;34m)\u001b[0m\u001b[0;34m\u001b[0m\u001b[0;34m\u001b[0m\u001b[0m\n",
      "\u001b[0;32m/usr/local/share/pynq-venv/lib/python3.8/site-packages/nest_asyncio.py\u001b[0m in \u001b[0;36mrun_forever\u001b[0;34m(self)\u001b[0m\n\u001b[1;32m     51\u001b[0m         \u001b[0;32mwith\u001b[0m \u001b[0mmanage_run\u001b[0m\u001b[0;34m(\u001b[0m\u001b[0mself\u001b[0m\u001b[0;34m)\u001b[0m\u001b[0;34m,\u001b[0m \u001b[0mmanage_asyncgens\u001b[0m\u001b[0;34m(\u001b[0m\u001b[0mself\u001b[0m\u001b[0;34m)\u001b[0m\u001b[0;34m:\u001b[0m\u001b[0;34m\u001b[0m\u001b[0;34m\u001b[0m\u001b[0m\n\u001b[1;32m     52\u001b[0m             \u001b[0;32mwhile\u001b[0m \u001b[0;32mTrue\u001b[0m\u001b[0;34m:\u001b[0m\u001b[0;34m\u001b[0m\u001b[0;34m\u001b[0m\u001b[0m\n\u001b[0;32m---> 53\u001b[0;31m                 \u001b[0mself\u001b[0m\u001b[0;34m.\u001b[0m\u001b[0m_run_once\u001b[0m\u001b[0;34m(\u001b[0m\u001b[0;34m)\u001b[0m\u001b[0;34m\u001b[0m\u001b[0;34m\u001b[0m\u001b[0m\n\u001b[0m\u001b[1;32m     54\u001b[0m                 \u001b[0;32mif\u001b[0m \u001b[0mself\u001b[0m\u001b[0;34m.\u001b[0m\u001b[0m_stopping\u001b[0m\u001b[0;34m:\u001b[0m\u001b[0;34m\u001b[0m\u001b[0;34m\u001b[0m\u001b[0m\n\u001b[1;32m     55\u001b[0m                     \u001b[0;32mbreak\u001b[0m\u001b[0;34m\u001b[0m\u001b[0;34m\u001b[0m\u001b[0m\n",
      "\u001b[0;32m/usr/local/share/pynq-venv/lib/python3.8/site-packages/nest_asyncio.py\u001b[0m in \u001b[0;36m_run_once\u001b[0;34m(self)\u001b[0m\n\u001b[1;32m     85\u001b[0m             \u001b[0;32melse\u001b[0m \u001b[0mmin\u001b[0m\u001b[0;34m(\u001b[0m\u001b[0mmax\u001b[0m\u001b[0;34m(\u001b[0m\u001b[0mscheduled\u001b[0m\u001b[0;34m[\u001b[0m\u001b[0;36m0\u001b[0m\u001b[0;34m]\u001b[0m\u001b[0;34m.\u001b[0m\u001b[0m_when\u001b[0m \u001b[0;34m-\u001b[0m \u001b[0mnow\u001b[0m\u001b[0;34m,\u001b[0m \u001b[0;36m0\u001b[0m\u001b[0;34m)\u001b[0m\u001b[0;34m,\u001b[0m \u001b[0;36m86400\u001b[0m\u001b[0;34m)\u001b[0m \u001b[0;32mif\u001b[0m \u001b[0mscheduled\u001b[0m\u001b[0;34m\u001b[0m\u001b[0;34m\u001b[0m\u001b[0m\n\u001b[1;32m     86\u001b[0m             else None)\n\u001b[0;32m---> 87\u001b[0;31m         \u001b[0mevent_list\u001b[0m \u001b[0;34m=\u001b[0m \u001b[0mself\u001b[0m\u001b[0;34m.\u001b[0m\u001b[0m_selector\u001b[0m\u001b[0;34m.\u001b[0m\u001b[0mselect\u001b[0m\u001b[0;34m(\u001b[0m\u001b[0mtimeout\u001b[0m\u001b[0;34m)\u001b[0m\u001b[0;34m\u001b[0m\u001b[0;34m\u001b[0m\u001b[0m\n\u001b[0m\u001b[1;32m     88\u001b[0m         \u001b[0mself\u001b[0m\u001b[0;34m.\u001b[0m\u001b[0m_process_events\u001b[0m\u001b[0;34m(\u001b[0m\u001b[0mevent_list\u001b[0m\u001b[0;34m)\u001b[0m\u001b[0;34m\u001b[0m\u001b[0;34m\u001b[0m\u001b[0m\n\u001b[1;32m     89\u001b[0m \u001b[0;34m\u001b[0m\u001b[0m\n",
      "\u001b[0;32m/usr/lib/python3.8/selectors.py\u001b[0m in \u001b[0;36mselect\u001b[0;34m(self, timeout)\u001b[0m\n\u001b[1;32m    466\u001b[0m             \u001b[0mready\u001b[0m \u001b[0;34m=\u001b[0m \u001b[0;34m[\u001b[0m\u001b[0;34m]\u001b[0m\u001b[0;34m\u001b[0m\u001b[0;34m\u001b[0m\u001b[0m\n\u001b[1;32m    467\u001b[0m             \u001b[0;32mtry\u001b[0m\u001b[0;34m:\u001b[0m\u001b[0;34m\u001b[0m\u001b[0;34m\u001b[0m\u001b[0m\n\u001b[0;32m--> 468\u001b[0;31m                 \u001b[0mfd_event_list\u001b[0m \u001b[0;34m=\u001b[0m \u001b[0mself\u001b[0m\u001b[0;34m.\u001b[0m\u001b[0m_selector\u001b[0m\u001b[0;34m.\u001b[0m\u001b[0mpoll\u001b[0m\u001b[0;34m(\u001b[0m\u001b[0mtimeout\u001b[0m\u001b[0;34m,\u001b[0m \u001b[0mmax_ev\u001b[0m\u001b[0;34m)\u001b[0m\u001b[0;34m\u001b[0m\u001b[0;34m\u001b[0m\u001b[0m\n\u001b[0m\u001b[1;32m    469\u001b[0m             \u001b[0;32mexcept\u001b[0m \u001b[0mInterruptedError\u001b[0m\u001b[0;34m:\u001b[0m\u001b[0;34m\u001b[0m\u001b[0;34m\u001b[0m\u001b[0m\n\u001b[1;32m    470\u001b[0m                 \u001b[0;32mreturn\u001b[0m \u001b[0mready\u001b[0m\u001b[0;34m\u001b[0m\u001b[0;34m\u001b[0m\u001b[0m\n",
      "\u001b[0;31mKeyboardInterrupt\u001b[0m: "
     ]
    }
   ],
   "source": [
    "run_client(20002)"
   ]
  },
  {
   "cell_type": "code",
   "execution_count": null,
   "id": "15ddf5be",
   "metadata": {},
   "outputs": [],
   "source": [
    "procs = [] # a future list of all our processes\n",
    "\n",
    "print('starting p1')\n",
    "# Launch process1 on CPU0\n",
    "p1 = multiprocessing.Process(target=run_client)\n",
    "os.system(\"taskset -p -c {} {}\".format(1, p1.pid)) # taskset is an os command to pin the process to a specific CPU\n",
    "procs.append(p1)\n",
    "\n",
    "print('starting p2')\n",
    "# Launch process1 on CPU0\n",
    "p2 = multiprocessing.Process(target=server, args=(1001,))\n",
    "os.system(\"taskset -p -c {} {}\".format(0, p2.pid)) # taskset is an os command to pin the process to a specific CPU\n",
    "procs.append(p2)\n",
    "\n",
    "print('Start')\n",
    "p1.start() # start the process\n",
    "p2.start() # start the proces\n",
    "\n",
    "p1Name = p1.name # get process1 name\n",
    "p2Name = p2.name # get process1 name\n",
    "                             \n",
    "p1.join()\n",
    "p2.join()\n",
    "\n",
    "print('Process 1 with name, {}, is finished'.format(p1Name))\n",
    "print('Process 2 with name, {}, is finished'.format(p2Name))"
   ]
  }
 ],
 "metadata": {
  "kernelspec": {
   "display_name": "Python 3",
   "language": "python",
   "name": "python3"
  },
  "language_info": {
   "codemirror_mode": {
    "name": "ipython",
    "version": 3
   },
   "file_extension": ".py",
   "mimetype": "text/x-python",
   "name": "python",
   "nbconvert_exporter": "python",
   "pygments_lexer": "ipython3",
   "version": "3.8.2"
  }
 },
 "nbformat": 4,
 "nbformat_minor": 5
}
