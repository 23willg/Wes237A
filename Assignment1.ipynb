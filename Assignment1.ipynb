{
 "cells": [
  {
   "cell_type": "code",
   "execution_count": 100,
   "id": "ac416eac",
   "metadata": {},
   "outputs": [],
   "source": [
    "from pynq.overlays.base import BaseOverlay \n",
    "import time\n",
    "from datetime import datetime"
   ]
  },
  {
   "cell_type": "code",
   "execution_count": 101,
   "id": "8d8a4113",
   "metadata": {},
   "outputs": [],
   "source": [
    "base = BaseOverlay(\"base.bit\") \n",
    "btns = base.btns_gpio"
   ]
  },
  {
   "cell_type": "code",
   "execution_count": 102,
   "id": "6a0a3525",
   "metadata": {},
   "outputs": [],
   "source": [
    "%%microblaze base.PMODA \n",
    "#include \"gpio.h\"\n",
    "#include \"pyprintf.h\"\n",
    "//Function to turn on/off a selected pin of PMODB\n",
    "void write_gpio(unsigned int pin, unsigned int val){\n",
    "    if (val > 1){\n",
    "        pyprintf(\"pin value must be 0 or 1\");\n",
    "    }\n",
    "    gpio pin_out = gpio_open(pin);\n",
    "    gpio_set_direction(pin_out, GPIO_OUT);\n",
    "    gpio_write(pin_out, val);\n",
    "}\n",
    "//Function to read the value of a selected pin of PMODB\n",
    "unsigned int read_gpio(unsigned int pin){\n",
    "    gpio pin_in = gpio_open(pin);\n",
    "    gpio_set_direction(pin_in, GPIO_IN);\n",
    "    return gpio_read(pin_in);\n",
    "}"
   ]
  },
  {
   "cell_type": "code",
   "execution_count": 103,
   "id": "a155cede",
   "metadata": {},
   "outputs": [],
   "source": [
    "\n",
    "import asyncio \n",
    "cond = True \n",
    "pin = 0 #start on red\n",
    "\n",
    "async def pwm(frequency, duty_cycle): \n",
    "    global cond, pin\n",
    "    \n",
    "    period = 1/frequency\n",
    "    on = duty_cycle/100 * period\n",
    "    off = (100-duty_cycle)/100 * period\n",
    "    \n",
    "    print(\"entering loop\")\n",
    "    while cond:\n",
    "        if pin == 0: # blink red\n",
    "            write_gpio(3, 1)\n",
    "            await asyncio.sleep(on) \n",
    "            write_gpio(3, 0)\n",
    "            await asyncio.sleep(off)\n",
    "            \n",
    "        if pin == 1: # blinking green led \n",
    "            write_gpio(2, 1)\n",
    "            await asyncio.sleep(on) \n",
    "            write_gpio(2, 0)\n",
    "            await asyncio.sleep(off)\n",
    "            \n",
    "        if pin == 2: # blinking blue led \n",
    "            write_gpio(1, 1)\n",
    "            await asyncio.sleep(on) \n",
    "            write_gpio(1, 0)\n",
    "            await asyncio.sleep(off)\n",
    "            \n",
    "            \n",
    "async def get_btns(_loop): \n",
    "    global cond, pin \n",
    "    \n",
    "    while cond:\n",
    "        await asyncio.sleep(0.01) \n",
    "        \n",
    "        if btns[0].read() != 0: # blinking red led\n",
    "            pin = 0\n",
    "            await asyncio.sleep(0.3)\n",
    "            print(\"Pressed btn 0\")\n",
    "            \n",
    "        elif btns[1].read() != 0: # blinking green led \n",
    "            pin = 1\n",
    "            await asyncio.sleep(0.3)\n",
    "            print(\"Pressed btn 1\")\n",
    "            \n",
    "        elif btns[2].read() != 0: # blinking blue led \n",
    "            pin = 2\n",
    "            await asyncio.sleep(0.3)\n",
    "            print(\"Pressed btn 2\")\n",
    "            \n",
    "        elif btns[3].read() != 0: #stop blinking \n",
    "            cond = False\n",
    "            await asyncio.sleep(0.3)\n",
    "            print(\"Pressed btn 3\")\n",
    "            clear_gpio()\n",
    "            _loop.stop()\n",
    "            \n",
    "def clear_gpio():\n",
    "    write_gpio(7, 0)\n",
    "    write_gpio(6, 0)\n",
    "    write_gpio(5, 0)\n",
    "    write_gpio(4, 0)\n",
    "    write_gpio(3, 0)\n",
    "    write_gpio(2, 0)\n",
    "    write_gpio(1, 0)"
   ]
  },
  {
   "cell_type": "code",
   "execution_count": 104,
   "id": "d85cc6a3",
   "metadata": {},
   "outputs": [
    {
     "name": "stdout",
     "output_type": "stream",
     "text": [
      "Start\n",
      "entering loop\n",
      "Pressed btn 2\n",
      "Pressed btn 1\n",
      "Pressed btn 0\n",
      "Pressed btn 3\n",
      "Done\n"
     ]
    }
   ],
   "source": [
    "print(\"Start\")\n",
    "clear_gpio()\n",
    "loop = asyncio.new_event_loop() \n",
    "\n",
    "write_gpio(3,1)\n",
    "await asyncio.sleep(1)\n",
    "write_gpio(3,0)\n",
    "await asyncio.sleep(0)\n",
    "\n",
    "freq, duty = 10, 25\n",
    "loop.create_task(pwm(freq, duty)) \n",
    "loop.create_task(get_btns(loop)) \n",
    "loop.run_forever()\n",
    "loop.close()\n",
    "\n",
    "print(\"Done\")"
   ]
  },
  {
   "cell_type": "code",
   "execution_count": null,
   "id": "ad21d13e",
   "metadata": {},
   "outputs": [],
   "source": []
  }
 ],
 "metadata": {
  "kernelspec": {
   "display_name": "Python 3",
   "language": "python",
   "name": "python3"
  },
  "language_info": {
   "codemirror_mode": {
    "name": "ipython",
    "version": 3
   },
   "file_extension": ".py",
   "mimetype": "text/x-python",
   "name": "python",
   "nbconvert_exporter": "python",
   "pygments_lexer": "ipython3",
   "version": "3.8.2"
  }
 },
 "nbformat": 4,
 "nbformat_minor": 5
}
